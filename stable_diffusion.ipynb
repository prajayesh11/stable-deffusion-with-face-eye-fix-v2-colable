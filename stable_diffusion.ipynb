{
  "cells": [
    {
      "cell_type": "markdown",
      "metadata": {
        "id": "EOe2X616VerI"
      },
      "source": [
        "# **Execute this once**"
      ]
    },
    {
      "cell_type": "code",
      "execution_count": null,
      "metadata": {
        "id": "QuFz5uGi-h6G"
      },
      "outputs": [],
      "source": [
        "#@title\n",
        "# section 1\n",
        "%pip install --quiet --upgrade diffusers transformers accelerate mediapy scipy ftfy spacy\n",
        "\n",
        "# section 2\n",
        "# The xformers package is mandatory to be able to create several 768x768 images.\n",
        "github_url = \"https://github.com/brian6091/xformers-wheels\"\n",
        "xformer_id = \"0.0.15.dev0+4c06c79\"\n",
        "xformers_wheels = f\"xformers-{xformer_id}.d20221205-cp38-cp38-linux_x86_64.whl\"\n",
        "\n",
        "# Install xformers using pre-compiled Python wheels\n",
        "%pip install -q {github_url}/releases/download/{xformer_id}/{xformers_wheels}\n",
        "\n",
        "\n",
        "# section 3\n",
        "from diffusers import PNDMScheduler, DDIMScheduler, LMSDiscreteScheduler, EulerDiscreteScheduler, DPMSolverMultistepScheduler\n",
        "\n",
        "scheduler = None\n",
        "# scheduler = PNDMScheduler.from_pretrained(model_id, subfolder=\"scheduler\")\n",
        "# scheduler = DDIMScheduler.from_pretrained(model_id, subfolder=\"scheduler\")\n",
        "# scheduler = LMSDiscreteScheduler.from_pretrained(model_id, subfolder=\"scheduler\")\n",
        "# scheduler = EulerDiscreteScheduler.from_pretrained(model_id, subfolder=\"scheduler\")\n",
        "# scheduler = DPMSolverMultistepScheduler.from_pretrained(model_id, subfolder=\"scheduler\")\n",
        "\n",
        "\n",
        "# section 4\n",
        "# model_id = \"stabilityai/stable-diffusion-2-1-base\"\n",
        "# model_id = \"stabilityai/stable-diffusion-2-1\"\n",
        "model_id = \"dreamlike-art/dreamlike-photoreal-2.0\" # previous\n",
        "\n",
        "\n",
        "# sections 4\n",
        "import mediapy as media\n",
        "import torch\n",
        "import os\n",
        "from diffusers import StableDiffusionPipeline\n",
        "\n",
        "device = \"cuda\"\n",
        "\n",
        "if model_id.startswith(\"stabilityai/\"):\n",
        "  model_revision = \"fp16\"\n",
        "else:\n",
        "  model_revision = None\n",
        "\n",
        "if scheduler is None:\n",
        "  pipe = StableDiffusionPipeline.from_pretrained(\n",
        "      model_id,\n",
        "      torch_dtype=torch.float16,\n",
        "      revision=model_revision,\n",
        "      )  \n",
        "else:\n",
        "  pipe = StableDiffusionPipeline.from_pretrained(\n",
        "      model_id,\n",
        "      scheduler=scheduler,\n",
        "      torch_dtype=torch.float16,\n",
        "      revision=model_revision,\n",
        "      )\n",
        "\n",
        "pipe = pipe.to(device)\n",
        "pipe.enable_xformers_memory_efficient_attention()\n",
        "\n",
        "if model_id.endswith('-base'):\n",
        "  image_length = 512\n",
        "else:\n",
        "  image_length = 768\n"
      ]
    },
    {
      "cell_type": "code",
      "execution_count": null,
      "metadata": {
        "id": "AUc4QJfE-uR9"
      },
      "outputs": [],
      "source": [
        "prompt = \"A detailed painting of a cute cyberpunk girl with green eyes, d.va, cyberpunk 2077, blade runner 2049, dark city background, nude\"\n",
        "remove_safety = True\n",
        "num_images = 4\n",
        "\n",
        "if remove_safety:\n",
        "  negative_prompt = None\n",
        "else:\n",
        "  negative_prompt = \"nude, naked\"\n",
        "    # pass\n",
        "\n",
        "new_height = 768\n",
        "new_width = 512\n",
        "\n",
        "\n",
        "# 1 – Mostly ignore your prompt.\n",
        "# 3 – Be more creative.\n",
        "# 7 – A good balance between following the prompt and freedom.\n",
        "# 15 – Adhere more to prompt.\n",
        "# 30 – Strictly follow the prompt.\n",
        "\n",
        "# guidance_scale = 9 # default\n",
        "guidance_scale = 9\n",
        "\n",
        "images = pipe(\n",
        "    prompt,\n",
        "    height = new_height, #image_length,\n",
        "    width = new_width, #image_length,\n",
        "    num_inference_steps = 50,\n",
        "    guidance_scale = guidance_scale,\n",
        "    num_images_per_prompt = num_images,\n",
        "    negative_prompt = negative_prompt,\n",
        "    ).images\n",
        "\n",
        "media.show_images(images)\n",
        "images[0].save(\"output.jpg\")"
      ]
    }
  ],
  "metadata": {
    "accelerator": "GPU",
    "colab": {
      "private_outputs": true,
      "provenance": []
    },
    "gpuClass": "standard",
    "kernelspec": {
      "display_name": "Python 3",
      "name": "python3"
    },
    "language_info": {
      "name": "python"
    }
  },
  "nbformat": 4,
  "nbformat_minor": 0
}
